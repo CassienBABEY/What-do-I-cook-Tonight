{
 "cells": [
  {
   "cell_type": "code",
   "execution_count": 1,
   "id": "6632902c",
   "metadata": {
    "ExecuteTime": {
     "end_time": "2023-08-12T15:09:15.799618Z",
     "start_time": "2023-08-12T15:09:11.865010Z"
    }
   },
   "outputs": [],
   "source": [
    "import pandas as pd\n",
    "import numpy as np\n",
    "import seaborn as sns\n",
    "import matplotlib.pyplot as plt\n"
   ]
  },
  {
   "cell_type": "code",
   "execution_count": 143,
   "id": "e82080dd",
   "metadata": {
    "ExecuteTime": {
     "end_time": "2023-08-12T17:23:07.216105Z",
     "start_time": "2023-08-12T17:23:07.150144Z"
    }
   },
   "outputs": [
    {
     "data": {
      "text/html": [
       "<div>\n",
       "<style scoped>\n",
       "    .dataframe tbody tr th:only-of-type {\n",
       "        vertical-align: middle;\n",
       "    }\n",
       "\n",
       "    .dataframe tbody tr th {\n",
       "        vertical-align: top;\n",
       "    }\n",
       "\n",
       "    .dataframe thead th {\n",
       "        text-align: right;\n",
       "    }\n",
       "</style>\n",
       "<table border=\"1\" class=\"dataframe\">\n",
       "  <thead>\n",
       "    <tr style=\"text-align: right;\">\n",
       "      <th></th>\n",
       "      <th>name</th>\n",
       "      <th>ingredients</th>\n",
       "      <th>duration</th>\n",
       "      <th>difficulty</th>\n",
       "      <th>img_url</th>\n",
       "      <th>URL</th>\n",
       "      <th>ingredients_processed</th>\n",
       "      <th>removed_stopwords</th>\n",
       "      <th>cleaned_ingredients</th>\n",
       "    </tr>\n",
       "  </thead>\n",
       "  <tbody>\n",
       "    <tr>\n",
       "      <th>0</th>\n",
       "      <td>15 Minute Healthy Dark Chocolate Truffles</td>\n",
       "      <td>['dried dates, pitted', 'cups sliced or sliver...</td>\n",
       "      <td>45.0</td>\n",
       "      <td>Moderate</td>\n",
       "      <td>https://spoonacular.com/recipeImages/631841-55...</td>\n",
       "      <td>https://recipes.lewagon.com/recipes/1410</td>\n",
       "      <td>['dried dates pitted', 'cups sliced or slivere...</td>\n",
       "      <td>[]</td>\n",
       "      <td>['honey', 'salt']</td>\n",
       "    </tr>\n",
       "    <tr>\n",
       "      <th>1</th>\n",
       "      <td>17 Bean White Chicken Chili</td>\n",
       "      <td>['pound Assorted Dry Beans, Cooked According t...</td>\n",
       "      <td>45.0</td>\n",
       "      <td>Hard</td>\n",
       "      <td>https://spoonacular.com/recipeImages/631843-55...</td>\n",
       "      <td>https://recipes.lewagon.com/recipes/803</td>\n",
       "      <td>['pound assorted dry beans cooked according to...</td>\n",
       "      <td>[]</td>\n",
       "      <td>['chicken', 'chicken', 'pepper', 'onion', 'gar...</td>\n",
       "    </tr>\n",
       "    <tr>\n",
       "      <th>2</th>\n",
       "      <td>2 Minute Chocolate Yum</td>\n",
       "      <td>['tablespoons Cocoa Powder', 'Egg, slightly be...</td>\n",
       "      <td>45.0</td>\n",
       "      <td>Very hard</td>\n",
       "      <td>https://spoonacular.com/recipeImages/631849-55...</td>\n",
       "      <td>https://recipes.lewagon.com/recipes/877</td>\n",
       "      <td>['tablespoons cocoa powder', 'egg slightly bea...</td>\n",
       "      <td>[]</td>\n",
       "      <td>['egg', 'flour', 'salt', 'sugar']</td>\n",
       "    </tr>\n",
       "    <tr>\n",
       "      <th>3</th>\n",
       "      <td>3 Steps for the Best Sheet Pan Chicken and Veg...</td>\n",
       "      <td>['fresh and dried herbs', '- pieces asparagus'...</td>\n",
       "      <td>35.0</td>\n",
       "      <td>Hard</td>\n",
       "      <td>https://spoonacular.com/recipeImages/1045246-5...</td>\n",
       "      <td>https://recipes.lewagon.com/recipes/31</td>\n",
       "      <td>['fresh and dried herbs', '- pieces asparagus'...</td>\n",
       "      <td>[]</td>\n",
       "      <td>['asparagus', 'zucchini', 'chicken', 'cheese',...</td>\n",
       "    </tr>\n",
       "    <tr>\n",
       "      <th>4</th>\n",
       "      <td>4 Ingredient Raw Peanut Butter Chocolate Cups</td>\n",
       "      <td>['to  tablespoons coconut flour, as needed', '...</td>\n",
       "      <td>45.0</td>\n",
       "      <td>Very hard</td>\n",
       "      <td>https://spoonacular.com/recipeImages/792705-55...</td>\n",
       "      <td>https://recipes.lewagon.com/recipes/92</td>\n",
       "      <td>['to  tablespoons coconut flour as needed', 'o...</td>\n",
       "      <td>[]</td>\n",
       "      <td>['flour', 'syrup', 'butter']</td>\n",
       "    </tr>\n",
       "    <tr>\n",
       "      <th>...</th>\n",
       "      <td>...</td>\n",
       "      <td>...</td>\n",
       "      <td>...</td>\n",
       "      <td>...</td>\n",
       "      <td>...</td>\n",
       "      <td>...</td>\n",
       "      <td>...</td>\n",
       "      <td>...</td>\n",
       "      <td>...</td>\n",
       "    </tr>\n",
       "    <tr>\n",
       "      <th>1464</th>\n",
       "      <td>Zucchini &amp; Basil Frittata</td>\n",
       "      <td>['leaves basil, chopped', 'cup cheddar cheese'...</td>\n",
       "      <td>45.0</td>\n",
       "      <td>Moderate</td>\n",
       "      <td>https://spoonacular.com/recipeImages/665691-55...</td>\n",
       "      <td>https://recipes.lewagon.com/recipes/14</td>\n",
       "      <td>['leaves basil chopped', 'cup cheddar cheese',...</td>\n",
       "      <td>[]</td>\n",
       "      <td>['basil', 'cheese', 'eggs', 'grapeseed', 'onio...</td>\n",
       "    </tr>\n",
       "    <tr>\n",
       "      <th>1465</th>\n",
       "      <td>Zucchini Burgers with Lemon Herb Yogurt Sauce</td>\n",
       "      <td>['cup bread crumbs', 'cup Diced cheddar cheese...</td>\n",
       "      <td>45.0</td>\n",
       "      <td>Moderate</td>\n",
       "      <td>https://spoonacular.com/recipeImages/665721-55...</td>\n",
       "      <td>https://recipes.lewagon.com/recipes/524</td>\n",
       "      <td>['cup bread crumbs', 'cup diced cheddar cheese...</td>\n",
       "      <td>[]</td>\n",
       "      <td>['bread', 'cheese', 'parsley', 'eggs', 'hambur...</td>\n",
       "    </tr>\n",
       "    <tr>\n",
       "      <th>1466</th>\n",
       "      <td>Zucchini Chicken Omelette</td>\n",
       "      <td>['Eggs', 'tablespoon Water', 'grams Zucchini, ...</td>\n",
       "      <td>45.0</td>\n",
       "      <td>Moderate</td>\n",
       "      <td>https://spoonacular.com/recipeImages/665734-55...</td>\n",
       "      <td>https://recipes.lewagon.com/recipes/485</td>\n",
       "      <td>['eggs', 'tablespoon water', 'grams zucchini g...</td>\n",
       "      <td>[]</td>\n",
       "      <td>['eggs', 'zucchini', 'salt, pepper', 'chicken']</td>\n",
       "    </tr>\n",
       "    <tr>\n",
       "      <th>1467</th>\n",
       "      <td>Zucchini Quiche Appetizers</td>\n",
       "      <td>['cups zucchini, grated', 'cup Bisquick', 'cup...</td>\n",
       "      <td>45.0</td>\n",
       "      <td>Hard</td>\n",
       "      <td>https://spoonacular.com/recipeImages/665778-55...</td>\n",
       "      <td>https://recipes.lewagon.com/recipes/720</td>\n",
       "      <td>['cups zucchini grated', 'cup bisquick', 'cup ...</td>\n",
       "      <td>[]</td>\n",
       "      <td>['zucchini', 'onion', 'cheese', 'parsley', 'sa...</td>\n",
       "    </tr>\n",
       "    <tr>\n",
       "      <th>1468</th>\n",
       "      <td>Zucchini Ribbon Caper Salad</td>\n",
       "      <td>['tablespoon Capers, drained and rinsed', 'Gar...</td>\n",
       "      <td>45.0</td>\n",
       "      <td>Hard</td>\n",
       "      <td>https://spoonacular.com/recipeImages/665777-55...</td>\n",
       "      <td>https://recipes.lewagon.com/recipes/1361</td>\n",
       "      <td>['tablespoon capers drained and rinsed', 'garl...</td>\n",
       "      <td>[]</td>\n",
       "      <td>['garlic', 'lemon', 'salt, pepper', 'tomato', ...</td>\n",
       "    </tr>\n",
       "  </tbody>\n",
       "</table>\n",
       "<p>1469 rows × 9 columns</p>\n",
       "</div>"
      ],
      "text/plain": [
       "                                                   name  \\\n",
       "0             15 Minute Healthy Dark Chocolate Truffles   \n",
       "1                           17 Bean White Chicken Chili   \n",
       "2                                2 Minute Chocolate Yum   \n",
       "3     3 Steps for the Best Sheet Pan Chicken and Veg...   \n",
       "4         4 Ingredient Raw Peanut Butter Chocolate Cups   \n",
       "...                                                 ...   \n",
       "1464                          Zucchini & Basil Frittata   \n",
       "1465      Zucchini Burgers with Lemon Herb Yogurt Sauce   \n",
       "1466                          Zucchini Chicken Omelette   \n",
       "1467                         Zucchini Quiche Appetizers   \n",
       "1468                        Zucchini Ribbon Caper Salad   \n",
       "\n",
       "                                            ingredients  duration difficulty  \\\n",
       "0     ['dried dates, pitted', 'cups sliced or sliver...      45.0   Moderate   \n",
       "1     ['pound Assorted Dry Beans, Cooked According t...      45.0       Hard   \n",
       "2     ['tablespoons Cocoa Powder', 'Egg, slightly be...      45.0  Very hard   \n",
       "3     ['fresh and dried herbs', '- pieces asparagus'...      35.0       Hard   \n",
       "4     ['to  tablespoons coconut flour, as needed', '...      45.0  Very hard   \n",
       "...                                                 ...       ...        ...   \n",
       "1464  ['leaves basil, chopped', 'cup cheddar cheese'...      45.0   Moderate   \n",
       "1465  ['cup bread crumbs', 'cup Diced cheddar cheese...      45.0   Moderate   \n",
       "1466  ['Eggs', 'tablespoon Water', 'grams Zucchini, ...      45.0   Moderate   \n",
       "1467  ['cups zucchini, grated', 'cup Bisquick', 'cup...      45.0       Hard   \n",
       "1468  ['tablespoon Capers, drained and rinsed', 'Gar...      45.0       Hard   \n",
       "\n",
       "                                                img_url  \\\n",
       "0     https://spoonacular.com/recipeImages/631841-55...   \n",
       "1     https://spoonacular.com/recipeImages/631843-55...   \n",
       "2     https://spoonacular.com/recipeImages/631849-55...   \n",
       "3     https://spoonacular.com/recipeImages/1045246-5...   \n",
       "4     https://spoonacular.com/recipeImages/792705-55...   \n",
       "...                                                 ...   \n",
       "1464  https://spoonacular.com/recipeImages/665691-55...   \n",
       "1465  https://spoonacular.com/recipeImages/665721-55...   \n",
       "1466  https://spoonacular.com/recipeImages/665734-55...   \n",
       "1467  https://spoonacular.com/recipeImages/665778-55...   \n",
       "1468  https://spoonacular.com/recipeImages/665777-55...   \n",
       "\n",
       "                                           URL  \\\n",
       "0     https://recipes.lewagon.com/recipes/1410   \n",
       "1      https://recipes.lewagon.com/recipes/803   \n",
       "2      https://recipes.lewagon.com/recipes/877   \n",
       "3       https://recipes.lewagon.com/recipes/31   \n",
       "4       https://recipes.lewagon.com/recipes/92   \n",
       "...                                        ...   \n",
       "1464    https://recipes.lewagon.com/recipes/14   \n",
       "1465   https://recipes.lewagon.com/recipes/524   \n",
       "1466   https://recipes.lewagon.com/recipes/485   \n",
       "1467   https://recipes.lewagon.com/recipes/720   \n",
       "1468  https://recipes.lewagon.com/recipes/1361   \n",
       "\n",
       "                                  ingredients_processed removed_stopwords  \\\n",
       "0     ['dried dates pitted', 'cups sliced or slivere...                []   \n",
       "1     ['pound assorted dry beans cooked according to...                []   \n",
       "2     ['tablespoons cocoa powder', 'egg slightly bea...                []   \n",
       "3     ['fresh and dried herbs', '- pieces asparagus'...                []   \n",
       "4     ['to  tablespoons coconut flour as needed', 'o...                []   \n",
       "...                                                 ...               ...   \n",
       "1464  ['leaves basil chopped', 'cup cheddar cheese',...                []   \n",
       "1465  ['cup bread crumbs', 'cup diced cheddar cheese...                []   \n",
       "1466  ['eggs', 'tablespoon water', 'grams zucchini g...                []   \n",
       "1467  ['cups zucchini grated', 'cup bisquick', 'cup ...                []   \n",
       "1468  ['tablespoon capers drained and rinsed', 'garl...                []   \n",
       "\n",
       "                                    cleaned_ingredients  \n",
       "0                                     ['honey', 'salt']  \n",
       "1     ['chicken', 'chicken', 'pepper', 'onion', 'gar...  \n",
       "2                     ['egg', 'flour', 'salt', 'sugar']  \n",
       "3     ['asparagus', 'zucchini', 'chicken', 'cheese',...  \n",
       "4                          ['flour', 'syrup', 'butter']  \n",
       "...                                                 ...  \n",
       "1464  ['basil', 'cheese', 'eggs', 'grapeseed', 'onio...  \n",
       "1465  ['bread', 'cheese', 'parsley', 'eggs', 'hambur...  \n",
       "1466    ['eggs', 'zucchini', 'salt, pepper', 'chicken']  \n",
       "1467  ['zucchini', 'onion', 'cheese', 'parsley', 'sa...  \n",
       "1468  ['garlic', 'lemon', 'salt, pepper', 'tomato', ...  \n",
       "\n",
       "[1469 rows x 9 columns]"
      ]
     },
     "execution_count": 143,
     "metadata": {},
     "output_type": "execute_result"
    }
   ],
   "source": [
    "data = pd.read_csv('Recipes.csv')\n",
    "data"
   ]
  },
  {
   "cell_type": "code",
   "execution_count": 144,
   "id": "cafe1660",
   "metadata": {
    "ExecuteTime": {
     "end_time": "2023-08-12T17:23:10.981706Z",
     "start_time": "2023-08-12T17:23:10.966913Z"
    }
   },
   "outputs": [
    {
     "data": {
      "text/plain": [
       "Very hard    317\n",
       "Moderate     308\n",
       "Very easy    292\n",
       "Easy         289\n",
       "Hard         263\n",
       "Name: difficulty, dtype: int64"
      ]
     },
     "execution_count": 144,
     "metadata": {},
     "output_type": "execute_result"
    }
   ],
   "source": [
    "data['difficulty'].value_counts()"
   ]
  },
  {
   "cell_type": "code",
   "execution_count": 145,
   "id": "b6ef979f",
   "metadata": {
    "ExecuteTime": {
     "end_time": "2023-08-12T17:23:11.559190Z",
     "start_time": "2023-08-12T17:23:11.542524Z"
    }
   },
   "outputs": [
    {
     "data": {
      "text/plain": [
       "<bound method Series.notnull of 0       45.0\n",
       "1       45.0\n",
       "2       45.0\n",
       "3       35.0\n",
       "4       45.0\n",
       "        ... \n",
       "1464    45.0\n",
       "1465    45.0\n",
       "1466    45.0\n",
       "1467    45.0\n",
       "1468    45.0\n",
       "Name: duration, Length: 1469, dtype: float64>"
      ]
     },
     "execution_count": 145,
     "metadata": {},
     "output_type": "execute_result"
    }
   ],
   "source": [
    "data['duration'].notnull"
   ]
  },
  {
   "cell_type": "code",
   "execution_count": 146,
   "id": "8a5a322e",
   "metadata": {
    "ExecuteTime": {
     "end_time": "2023-08-12T17:23:12.253050Z",
     "start_time": "2023-08-12T17:23:12.241728Z"
    }
   },
   "outputs": [],
   "source": [
    "data = data[data['duration'].notnull()]"
   ]
  },
  {
   "cell_type": "code",
   "execution_count": 147,
   "id": "b632da3e",
   "metadata": {
    "ExecuteTime": {
     "end_time": "2023-08-12T17:23:12.952534Z",
     "start_time": "2023-08-12T17:23:12.940434Z"
    }
   },
   "outputs": [
    {
     "name": "stderr",
     "output_type": "stream",
     "text": [
      "/tmp/ipykernel_630/4115907631.py:1: SettingWithCopyWarning: \n",
      "A value is trying to be set on a copy of a slice from a DataFrame.\n",
      "Try using .loc[row_indexer,col_indexer] = value instead\n",
      "\n",
      "See the caveats in the documentation: https://pandas.pydata.org/pandas-docs/stable/user_guide/indexing.html#returning-a-view-versus-a-copy\n",
      "  data['duration'] = data['duration'].astype(int)\n"
     ]
    }
   ],
   "source": [
    "data['duration'] = data['duration'].astype(int)"
   ]
  },
  {
   "cell_type": "code",
   "execution_count": 148,
   "id": "b4b7167b",
   "metadata": {
    "ExecuteTime": {
     "end_time": "2023-08-12T17:23:13.704719Z",
     "start_time": "2023-08-12T17:23:13.691339Z"
    }
   },
   "outputs": [
    {
     "name": "stderr",
     "output_type": "stream",
     "text": [
      "/tmp/ipykernel_630/2386337510.py:1: SettingWithCopyWarning: \n",
      "A value is trying to be set on a copy of a slice from a DataFrame.\n",
      "Try using .loc[row_indexer,col_indexer] = value instead\n",
      "\n",
      "See the caveats in the documentation: https://pandas.pydata.org/pandas-docs/stable/user_guide/indexing.html#returning-a-view-versus-a-copy\n",
      "  data['difficulty'] = data['difficulty'].str.lower()\n"
     ]
    }
   ],
   "source": [
    "data['difficulty'] = data['difficulty'].str.lower()"
   ]
  },
  {
   "cell_type": "code",
   "execution_count": 149,
   "id": "42e17b94",
   "metadata": {
    "ExecuteTime": {
     "end_time": "2023-08-12T17:23:14.595359Z",
     "start_time": "2023-08-12T17:23:14.581661Z"
    }
   },
   "outputs": [
    {
     "data": {
      "text/plain": [
       "0        moderate\n",
       "1            hard\n",
       "2       very hard\n",
       "3            hard\n",
       "4       very hard\n",
       "          ...    \n",
       "1464     moderate\n",
       "1465     moderate\n",
       "1466     moderate\n",
       "1467         hard\n",
       "1468         hard\n",
       "Name: difficulty, Length: 1437, dtype: object"
      ]
     },
     "execution_count": 149,
     "metadata": {},
     "output_type": "execute_result"
    }
   ],
   "source": [
    "data['difficulty']"
   ]
  },
  {
   "cell_type": "code",
   "execution_count": 150,
   "id": "7f10ead2",
   "metadata": {
    "ExecuteTime": {
     "end_time": "2023-08-12T17:23:17.298124Z",
     "start_time": "2023-08-12T17:23:17.287658Z"
    }
   },
   "outputs": [],
   "source": [
    "data.reset_index(inplace=True)"
   ]
  },
  {
   "cell_type": "code",
   "execution_count": 151,
   "id": "712660c0",
   "metadata": {
    "ExecuteTime": {
     "end_time": "2023-08-12T17:23:18.019666Z",
     "start_time": "2023-08-12T17:23:17.995182Z"
    }
   },
   "outputs": [
    {
     "data": {
      "text/html": [
       "<div>\n",
       "<style scoped>\n",
       "    .dataframe tbody tr th:only-of-type {\n",
       "        vertical-align: middle;\n",
       "    }\n",
       "\n",
       "    .dataframe tbody tr th {\n",
       "        vertical-align: top;\n",
       "    }\n",
       "\n",
       "    .dataframe thead th {\n",
       "        text-align: right;\n",
       "    }\n",
       "</style>\n",
       "<table border=\"1\" class=\"dataframe\">\n",
       "  <thead>\n",
       "    <tr style=\"text-align: right;\">\n",
       "      <th></th>\n",
       "      <th>index</th>\n",
       "      <th>name</th>\n",
       "      <th>ingredients</th>\n",
       "      <th>duration</th>\n",
       "      <th>difficulty</th>\n",
       "      <th>img_url</th>\n",
       "      <th>URL</th>\n",
       "      <th>ingredients_processed</th>\n",
       "      <th>removed_stopwords</th>\n",
       "      <th>cleaned_ingredients</th>\n",
       "    </tr>\n",
       "  </thead>\n",
       "  <tbody>\n",
       "    <tr>\n",
       "      <th>0</th>\n",
       "      <td>0</td>\n",
       "      <td>15 Minute Healthy Dark Chocolate Truffles</td>\n",
       "      <td>['dried dates, pitted', 'cups sliced or sliver...</td>\n",
       "      <td>45</td>\n",
       "      <td>moderate</td>\n",
       "      <td>https://spoonacular.com/recipeImages/631841-55...</td>\n",
       "      <td>https://recipes.lewagon.com/recipes/1410</td>\n",
       "      <td>['dried dates pitted', 'cups sliced or slivere...</td>\n",
       "      <td>[]</td>\n",
       "      <td>['honey', 'salt']</td>\n",
       "    </tr>\n",
       "    <tr>\n",
       "      <th>1</th>\n",
       "      <td>1</td>\n",
       "      <td>17 Bean White Chicken Chili</td>\n",
       "      <td>['pound Assorted Dry Beans, Cooked According t...</td>\n",
       "      <td>45</td>\n",
       "      <td>hard</td>\n",
       "      <td>https://spoonacular.com/recipeImages/631843-55...</td>\n",
       "      <td>https://recipes.lewagon.com/recipes/803</td>\n",
       "      <td>['pound assorted dry beans cooked according to...</td>\n",
       "      <td>[]</td>\n",
       "      <td>['chicken', 'chicken', 'pepper', 'onion', 'gar...</td>\n",
       "    </tr>\n",
       "    <tr>\n",
       "      <th>2</th>\n",
       "      <td>2</td>\n",
       "      <td>2 Minute Chocolate Yum</td>\n",
       "      <td>['tablespoons Cocoa Powder', 'Egg, slightly be...</td>\n",
       "      <td>45</td>\n",
       "      <td>very hard</td>\n",
       "      <td>https://spoonacular.com/recipeImages/631849-55...</td>\n",
       "      <td>https://recipes.lewagon.com/recipes/877</td>\n",
       "      <td>['tablespoons cocoa powder', 'egg slightly bea...</td>\n",
       "      <td>[]</td>\n",
       "      <td>['egg', 'flour', 'salt', 'sugar']</td>\n",
       "    </tr>\n",
       "    <tr>\n",
       "      <th>3</th>\n",
       "      <td>3</td>\n",
       "      <td>3 Steps for the Best Sheet Pan Chicken and Veg...</td>\n",
       "      <td>['fresh and dried herbs', '- pieces asparagus'...</td>\n",
       "      <td>35</td>\n",
       "      <td>hard</td>\n",
       "      <td>https://spoonacular.com/recipeImages/1045246-5...</td>\n",
       "      <td>https://recipes.lewagon.com/recipes/31</td>\n",
       "      <td>['fresh and dried herbs', '- pieces asparagus'...</td>\n",
       "      <td>[]</td>\n",
       "      <td>['asparagus', 'zucchini', 'chicken', 'cheese',...</td>\n",
       "    </tr>\n",
       "    <tr>\n",
       "      <th>4</th>\n",
       "      <td>4</td>\n",
       "      <td>4 Ingredient Raw Peanut Butter Chocolate Cups</td>\n",
       "      <td>['to  tablespoons coconut flour, as needed', '...</td>\n",
       "      <td>45</td>\n",
       "      <td>very hard</td>\n",
       "      <td>https://spoonacular.com/recipeImages/792705-55...</td>\n",
       "      <td>https://recipes.lewagon.com/recipes/92</td>\n",
       "      <td>['to  tablespoons coconut flour as needed', 'o...</td>\n",
       "      <td>[]</td>\n",
       "      <td>['flour', 'syrup', 'butter']</td>\n",
       "    </tr>\n",
       "  </tbody>\n",
       "</table>\n",
       "</div>"
      ],
      "text/plain": [
       "   index                                               name  \\\n",
       "0      0          15 Minute Healthy Dark Chocolate Truffles   \n",
       "1      1                        17 Bean White Chicken Chili   \n",
       "2      2                             2 Minute Chocolate Yum   \n",
       "3      3  3 Steps for the Best Sheet Pan Chicken and Veg...   \n",
       "4      4      4 Ingredient Raw Peanut Butter Chocolate Cups   \n",
       "\n",
       "                                         ingredients  duration difficulty  \\\n",
       "0  ['dried dates, pitted', 'cups sliced or sliver...        45   moderate   \n",
       "1  ['pound Assorted Dry Beans, Cooked According t...        45       hard   \n",
       "2  ['tablespoons Cocoa Powder', 'Egg, slightly be...        45  very hard   \n",
       "3  ['fresh and dried herbs', '- pieces asparagus'...        35       hard   \n",
       "4  ['to  tablespoons coconut flour, as needed', '...        45  very hard   \n",
       "\n",
       "                                             img_url  \\\n",
       "0  https://spoonacular.com/recipeImages/631841-55...   \n",
       "1  https://spoonacular.com/recipeImages/631843-55...   \n",
       "2  https://spoonacular.com/recipeImages/631849-55...   \n",
       "3  https://spoonacular.com/recipeImages/1045246-5...   \n",
       "4  https://spoonacular.com/recipeImages/792705-55...   \n",
       "\n",
       "                                        URL  \\\n",
       "0  https://recipes.lewagon.com/recipes/1410   \n",
       "1   https://recipes.lewagon.com/recipes/803   \n",
       "2   https://recipes.lewagon.com/recipes/877   \n",
       "3    https://recipes.lewagon.com/recipes/31   \n",
       "4    https://recipes.lewagon.com/recipes/92   \n",
       "\n",
       "                               ingredients_processed removed_stopwords  \\\n",
       "0  ['dried dates pitted', 'cups sliced or slivere...                []   \n",
       "1  ['pound assorted dry beans cooked according to...                []   \n",
       "2  ['tablespoons cocoa powder', 'egg slightly bea...                []   \n",
       "3  ['fresh and dried herbs', '- pieces asparagus'...                []   \n",
       "4  ['to  tablespoons coconut flour as needed', 'o...                []   \n",
       "\n",
       "                                 cleaned_ingredients  \n",
       "0                                  ['honey', 'salt']  \n",
       "1  ['chicken', 'chicken', 'pepper', 'onion', 'gar...  \n",
       "2                  ['egg', 'flour', 'salt', 'sugar']  \n",
       "3  ['asparagus', 'zucchini', 'chicken', 'cheese',...  \n",
       "4                       ['flour', 'syrup', 'butter']  "
      ]
     },
     "execution_count": 151,
     "metadata": {},
     "output_type": "execute_result"
    }
   ],
   "source": [
    "data.head()"
   ]
  },
  {
   "cell_type": "code",
   "execution_count": 152,
   "id": "8fbb2ab6",
   "metadata": {
    "ExecuteTime": {
     "end_time": "2023-08-12T17:23:20.290255Z",
     "start_time": "2023-08-12T17:23:20.283971Z"
    }
   },
   "outputs": [],
   "source": [
    "import ast"
   ]
  },
  {
   "cell_type": "code",
   "execution_count": 153,
   "id": "822a2887",
   "metadata": {
    "ExecuteTime": {
     "end_time": "2023-08-12T17:23:21.757207Z",
     "start_time": "2023-08-12T17:23:21.694101Z"
    }
   },
   "outputs": [
    {
     "name": "stderr",
     "output_type": "stream",
     "text": [
      "/tmp/ipykernel_630/728619772.py:2: SettingWithCopyWarning: \n",
      "A value is trying to be set on a copy of a slice from a DataFrame.\n",
      "Try using .loc[row_indexer,col_indexer] = value instead\n",
      "\n",
      "See the caveats in the documentation: https://pandas.pydata.org/pandas-docs/stable/user_guide/indexing.html#returning-a-view-versus-a-copy\n",
      "  data['cleaned_ingredients'] = data['cleaned_ingredients'].apply(ast.literal_eval)\n"
     ]
    }
   ],
   "source": [
    "# Convertir les chaînes de caractères en listes Python\n",
    "data['cleaned_ingredients'] = data['cleaned_ingredients'].apply(ast.literal_eval)"
   ]
  },
  {
   "cell_type": "code",
   "execution_count": 154,
   "id": "000efc54",
   "metadata": {
    "ExecuteTime": {
     "end_time": "2023-08-12T17:23:22.216663Z",
     "start_time": "2023-08-12T17:23:22.199821Z"
    }
   },
   "outputs": [
    {
     "data": {
      "text/plain": [
       "0                                        [honey, salt]\n",
       "1    [chicken, chicken, pepper, onion, garlic, toma...\n",
       "2                            [egg, flour, salt, sugar]\n",
       "3    [asparagus, zucchini, chicken, cheese, salt, p...\n",
       "4                               [flour, syrup, butter]\n",
       "Name: cleaned_ingredients, dtype: object"
      ]
     },
     "execution_count": 154,
     "metadata": {},
     "output_type": "execute_result"
    }
   ],
   "source": [
    "data['cleaned_ingredients'][0:5]"
   ]
  },
  {
   "cell_type": "code",
   "execution_count": 155,
   "id": "408904d0",
   "metadata": {
    "ExecuteTime": {
     "end_time": "2023-08-12T17:23:22.670542Z",
     "start_time": "2023-08-12T17:23:22.625155Z"
    }
   },
   "outputs": [],
   "source": [
    "from sklearn.feature_extraction.text import TfidfVectorizer\n",
    "\n",
    "# Instanciation et ajustement du TfidfVectorizer\n",
    "vectorizer = TfidfVectorizer()\n",
    "ingredients_matrix = vectorizer.fit_transform([' '.join(ingredients) for ingredients in data['cleaned_ingredients']])"
   ]
  },
  {
   "cell_type": "code",
   "execution_count": 156,
   "id": "b194861b",
   "metadata": {
    "ExecuteTime": {
     "end_time": "2023-08-12T17:23:23.081891Z",
     "start_time": "2023-08-12T17:23:23.071010Z"
    }
   },
   "outputs": [
    {
     "data": {
      "text/plain": [
       "<1437x207 sparse matrix of type '<class 'numpy.float64'>'\n",
       "\twith 9233 stored elements in Compressed Sparse Row format>"
      ]
     },
     "execution_count": 156,
     "metadata": {},
     "output_type": "execute_result"
    }
   ],
   "source": [
    "ingredients_matrix"
   ]
  },
  {
   "cell_type": "code",
   "execution_count": 157,
   "id": "3640fcb2",
   "metadata": {
    "ExecuteTime": {
     "end_time": "2023-08-12T17:23:23.481172Z",
     "start_time": "2023-08-12T17:23:23.473744Z"
    }
   },
   "outputs": [],
   "source": [
    "from sklearn.metrics.pairwise import cosine_similarity"
   ]
  },
  {
   "cell_type": "code",
   "execution_count": 173,
   "id": "f491cc98",
   "metadata": {
    "ExecuteTime": {
     "end_time": "2023-08-12T17:50:56.862892Z",
     "start_time": "2023-08-12T17:50:56.844087Z"
    }
   },
   "outputs": [],
   "source": [
    "# Ingrédients fournis par l'utilisateur\n",
    "user_ingredients = ['fish']\n",
    "\n",
    "# Vectorisation des ingrédients fournis par l'utilisateur\n",
    "user_ingredients_vector = vectorizer.transform([' '.join(user_ingredients)])\n",
    "\n",
    "# Calcul de la similarité cosinus\n",
    "similarities = cosine_similarity(user_ingredients_vector, ingredients_matrix).flatten()"
   ]
  },
  {
   "cell_type": "code",
   "execution_count": 174,
   "id": "7ef5a4f2",
   "metadata": {
    "ExecuteTime": {
     "end_time": "2023-08-12T17:50:57.617746Z",
     "start_time": "2023-08-12T17:50:57.605350Z"
    }
   },
   "outputs": [
    {
     "data": {
      "text/plain": [
       "array([0., 0., 0., ..., 0., 0., 0.])"
      ]
     },
     "execution_count": 174,
     "metadata": {},
     "output_type": "execute_result"
    }
   ],
   "source": [
    "similarities"
   ]
  },
  {
   "cell_type": "code",
   "execution_count": 175,
   "id": "bea249aa",
   "metadata": {
    "ExecuteTime": {
     "end_time": "2023-08-12T17:50:58.325820Z",
     "start_time": "2023-08-12T17:50:58.318310Z"
    }
   },
   "outputs": [],
   "source": [
    "# Filtrage des recettes en fonction du temps de préparation et de la difficulté\n",
    "max_preparation_time = 40  # Exemple de temps de préparation maximum accepté\n",
    "desired_difficulty = 'easy'  # Exemple de niveau de difficulté souhaité\n"
   ]
  },
  {
   "cell_type": "code",
   "execution_count": 176,
   "id": "173ade8b",
   "metadata": {
    "ExecuteTime": {
     "end_time": "2023-08-12T17:50:59.148507Z",
     "start_time": "2023-08-12T17:50:59.101505Z"
    }
   },
   "outputs": [
    {
     "name": "stdout",
     "output_type": "stream",
     "text": [
      "Recettes recommandées:\n",
      "- Greek-Style Baked Fish: Fresh, Simple, and Delicious (Similarité : 0.82) - URL : https://recipes.lewagon.com/recipes/38\n",
      "- Bahamian Goombay Smash Cocktail (Similarité : 0.00) - URL : https://recipes.lewagon.com/recipes/1215\n",
      "- Berry Frozen Yogurt Popsicles (Similarité : 0.00) - URL : https://recipes.lewagon.com/recipes/1419\n",
      "- Big Batch Smoothie Bowl (Similarité : 0.00) - URL : https://recipes.lewagon.com/recipes/871\n",
      "- Bulgur Pilaf With Green Lentils, Served With Caramelized Onions -Mercimekli Bulgur Pilavi (Similarité : 0.00) - URL : https://recipes.lewagon.com/recipes/1112\n"
     ]
    }
   ],
   "source": [
    "filtered_recipes = []\n",
    "for idx, recipe in enumerate(data['name']):\n",
    "    if data['duration'][idx] <= max_preparation_time and data['difficulty'][idx] == desired_difficulty:\n",
    "        filtered_recipes.append((recipe, similarities[idx]))\n",
    "\n",
    "# Trier les recettes par similarité\n",
    "filtered_recipes.sort(key=lambda x: x[1], reverse=True)\n",
    "\n",
    "# Afficher les recettes recommandées\n",
    "print(\"Recettes recommandées:\")\n",
    "for recipe, similarity in filtered_recipes[:5]:\n",
    "    url = data[data['name'] == recipe]['URL'].values[0]  # Obtenir l'URL correspondante à la recette\n",
    "    print(f\"- {recipe} (Similarité : {similarity:.2f}) - URL : {url}\")"
   ]
  },
  {
   "cell_type": "code",
   "execution_count": 166,
   "id": "a84e423b",
   "metadata": {
    "ExecuteTime": {
     "end_time": "2023-08-12T17:38:58.517018Z",
     "start_time": "2023-08-12T17:38:58.504280Z"
    }
   },
   "outputs": [
    {
     "data": {
      "text/plain": [
       "55"
      ]
     },
     "execution_count": 166,
     "metadata": {},
     "output_type": "execute_result"
    }
   ],
   "source": [
    "data['duration'].max()"
   ]
  },
  {
   "cell_type": "code",
   "execution_count": 177,
   "id": "e7d05f82",
   "metadata": {
    "ExecuteTime": {
     "end_time": "2023-08-12T17:51:24.268983Z",
     "start_time": "2023-08-12T17:51:24.173112Z"
    }
   },
   "outputs": [
    {
     "data": {
      "application/vnd.jupyter.widget-view+json": {
       "model_id": "d21082d8a4d0453ea27d0997f7df8a2f",
       "version_major": 2,
       "version_minor": 0
      },
      "text/plain": [
       "VBox(children=(Text(value='', description='Ingrédients (séparés par des virgules):'), FloatSlider(value=0.0, d…"
      ]
     },
     "metadata": {},
     "output_type": "display_data"
    }
   ],
   "source": [
    "import ipywidgets as widgets\n",
    "from IPython.display import display, Image\n",
    "\n",
    "class RecipeRecommendationApp:\n",
    "\n",
    "    def __init__(self):\n",
    "        self.ingredients_entry = widgets.Text(\n",
    "            description=\"Ingrédients (séparés par des virgules):\")\n",
    "        self.duration_entry = widgets.FloatSlider(\n",
    "            description=\"Durée de préparation maximale (en minutes):\", min=0, max=55)\n",
    "        self.difficulty_entry = widgets.Dropdown(\n",
    "            description=\"Difficulté de préparation:\", options=[\"very easy\", \"easy\", \"moderate\", \"hard\", \"very hard\"])\n",
    "        self.recommend_button = widgets.Button(description=\"Recommander Recettes\")\n",
    "        self.results_output = widgets.Output()\n",
    "\n",
    "        self.recommend_button.on_click(self.recommend_recipes)\n",
    "\n",
    "        self.ui = widgets.VBox([\n",
    "            self.ingredients_entry,\n",
    "            self.duration_entry,\n",
    "            self.difficulty_entry,\n",
    "            self.recommend_button,\n",
    "            self.results_output\n",
    "        ])\n",
    "\n",
    "    def recommend_recipes(self, _):\n",
    "        ingredients = self.ingredients_entry.value.split(',')\n",
    "        max_duration = self.duration_entry.value\n",
    "        desired_difficulty = self.difficulty_entry.value.lower()\n",
    "\n",
    "        # Effectuer la recommandation de recettes (à partir de votre code existant)\n",
    "        # ...\n",
    "\n",
    "        # Afficher les résultats dans l'output\n",
    "        with self.results_output:\n",
    "            self.results_output.clear_output()\n",
    "            print(\"Recettes recommandées:\")\n",
    "            for recipe, similarity in filtered_recipes[:5]:\n",
    "                url = data[data['name'] == recipe]['URL'].values[0]  # Obtenir l'URL correspondante à la recette\n",
    "                print(f\"- {recipe} (Similarité : {similarity:.2f}) - URL : {url}\")\n",
    "                \n",
    "                # Afficher l'image à partir de l'URL\n",
    "                img_url = data[data['name'] == recipe]['img_url'].values[0]  # Remplacez cette fonction par votre propre façon d'obtenir l'URL de l'image\n",
    "                display(Image(url=img_url))\n",
    "\n",
    "app = RecipeRecommendationApp()\n",
    "display(app.ui)\n"
   ]
  },
  {
   "cell_type": "code",
   "execution_count": 182,
   "id": "31998971",
   "metadata": {
    "ExecuteTime": {
     "end_time": "2023-08-12T18:03:05.266417Z",
     "start_time": "2023-08-12T18:03:05.177262Z"
    }
   },
   "outputs": [
    {
     "data": {
      "application/vnd.jupyter.widget-view+json": {
       "model_id": "547dc27d4f2b4bb39832574c3687ff12",
       "version_major": 2,
       "version_minor": 0
      },
      "text/plain": [
       "VBox(children=(Text(value='', description='Ingrédients (séparés par des virgules):'), FloatSlider(value=30.0, …"
      ]
     },
     "metadata": {},
     "output_type": "display_data"
    }
   ],
   "source": [
    "import ipywidgets as widgets\n",
    "from IPython.display import display, Image\n",
    "\n",
    "class RecipeRecommendationApp:\n",
    "\n",
    "    def __init__(self):\n",
    "        self.ingredients_entry = widgets.Text(\n",
    "            description=\"Ingrédients (séparés par des virgules):\")\n",
    "        \n",
    "        self.duration_entry = widgets.FloatSlider(\n",
    "            description=\"Durée de préparation maximale (en minutes):\", \n",
    "            min=5, max=55, step=5, value=30,  # Choix possibles: 5, 10, 15, ..., 55\n",
    "            continuous_update=False\n",
    "        )\n",
    "        \n",
    "        self.difficulty_entry = widgets.Dropdown(\n",
    "            description=\"Difficulté de préparation:\", options=[\"very easy\", \"easy\", \"moderate\", \"hard\", \"very hard\"])\n",
    "        \n",
    "        self.recommend_button = widgets.Button(description=\"Recommander Recettes\")\n",
    "        self.results_output = widgets.Output()\n",
    "\n",
    "        self.recommend_button.on_click(self.recommend_recipes)\n",
    "\n",
    "        self.ui = widgets.VBox([\n",
    "            self.ingredients_entry,\n",
    "            self.duration_entry,\n",
    "            self.difficulty_entry,\n",
    "            self.recommend_button,\n",
    "            self.results_output\n",
    "        ])\n",
    "\n",
    "    def recommend_recipes(self, _):\n",
    "        ingredients = self.ingredients_entry.value.split(',')\n",
    "        max_duration = self.duration_entry.value\n",
    "        desired_difficulty = self.difficulty_entry.value.lower()\n",
    "\n",
    "        # Effectuer la recommandation de recettes (à partir de votre code existant)\n",
    "        user_ingredients = ingredients  # Remplacez cette ligne par le code d'obtention des ingrédients fournis par l'utilisateur\n",
    "        user_ingredients_vector = vectorizer.transform([' '.join(user_ingredients)])\n",
    "        similarities = cosine_similarity(user_ingredients_vector, ingredients_matrix).flatten()\n",
    "\n",
    "        filtered_recipes = []\n",
    "        for idx, recipe in enumerate(data['name']):\n",
    "            if data['duration'][idx] <= max_duration and data['difficulty'][idx] == desired_difficulty and similarities[idx] > 0:\n",
    "                filtered_recipes.append((recipe, similarities[idx]))\n",
    "\n",
    "        # Trier les recettes par similarité\n",
    "        filtered_recipes.sort(key=lambda x: x[1], reverse=True)\n",
    "\n",
    "        # Afficher les résultats dans l'output\n",
    "        with self.results_output:\n",
    "            self.results_output.clear_output()\n",
    "            \n",
    "            if not filtered_recipes:\n",
    "                print(\"Aucune recette ne correspond à vos critères.\")\n",
    "            else:\n",
    "                print(\"Recettes recommandées:\")\n",
    "                for recipe, similarity in filtered_recipes[:5]:\n",
    "                    url = data[data['name'] == recipe]['URL'].values[0]  # Obtenir l'URL correspondante à la recette\n",
    "                    print(f\"- {recipe} (Similarité : {similarity:.2f}) - URL : {url}\")\n",
    "\n",
    "                    # Afficher l'image à partir de l'URL\n",
    "                    img_url = data[data['name'] == recipe]['img_url'].values[0]  # Remplacez cette fonction par votre propre façon d'obtenir l'URL de l'image\n",
    "                    display(Image(url=img_url))\n",
    "\n",
    "app = RecipeRecommendationApp()\n",
    "display(app.ui)\n"
   ]
  },
  {
   "cell_type": "code",
   "execution_count": null,
   "id": "abd1d915",
   "metadata": {},
   "outputs": [],
   "source": []
  }
 ],
 "metadata": {
  "kernelspec": {
   "display_name": "Python 3 (ipykernel)",
   "language": "python",
   "name": "python3"
  },
  "language_info": {
   "codemirror_mode": {
    "name": "ipython",
    "version": 3
   },
   "file_extension": ".py",
   "mimetype": "text/x-python",
   "name": "python",
   "nbconvert_exporter": "python",
   "pygments_lexer": "ipython3",
   "version": "3.10.6"
  },
  "toc": {
   "base_numbering": 1,
   "nav_menu": {},
   "number_sections": true,
   "sideBar": true,
   "skip_h1_title": false,
   "title_cell": "Table of Contents",
   "title_sidebar": "Contents",
   "toc_cell": false,
   "toc_position": {},
   "toc_section_display": true,
   "toc_window_display": false
  }
 },
 "nbformat": 4,
 "nbformat_minor": 5
}
